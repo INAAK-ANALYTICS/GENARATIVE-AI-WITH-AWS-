{
 "cells": [
  {
   "cell_type": "code",
   "execution_count": 1,
   "id": "1c9996b4-f754-443d-9dc9-e3aa6e8e086d",
   "metadata": {},
   "outputs": [
    {
     "name": "stdout",
     "output_type": "stream",
     "text": [
      "('Theophilus', 'Ama')\n"
     ]
    }
   ],
   "source": [
    "x='Theophilus','Ama'\n",
    "print(x)"
   ]
  },
  {
   "cell_type": "code",
   "execution_count": 2,
   "id": "2fa9353b-63ce-40fc-9a47-2291d2b8f6c5",
   "metadata": {},
   "outputs": [
    {
     "name": "stdout",
     "output_type": "stream",
     "text": [
      "Theo Kofi Ama\n"
     ]
    }
   ],
   "source": [
    "x,y,z='Theo','Kofi','Ama'\n",
    "print(x,y,z)"
   ]
  },
  {
   "cell_type": "code",
   "execution_count": 3,
   "id": "34297c06-8b17-4a60-a395-fa04acb3c041",
   "metadata": {},
   "outputs": [
    {
     "name": "stdout",
     "output_type": "stream",
     "text": [
      "Theo\n",
      "Kofi\n",
      "Ama\n"
     ]
    }
   ],
   "source": [
    "x,y,z='Theo','Kofi','Ama'\n",
    "print(x)\n",
    "print(y)\n",
    "print(z)"
   ]
  },
  {
   "cell_type": "code",
   "execution_count": 4,
   "id": "7da5a6eb-367e-4b1e-8110-79ef78cbb5d0",
   "metadata": {},
   "outputs": [
    {
     "name": "stdout",
     "output_type": "stream",
     "text": [
      "Theo\n",
      "Kofi\n",
      "Ama\n",
      "<class 'tuple'>\n"
     ]
    }
   ],
   "source": [
    "names='Theo','Kofi','Ama'\n",
    "x,y,z=names\n",
    "print(x)\n",
    "print(y)\n",
    "print(z)\n",
    "\n",
    "print(type(names))"
   ]
  },
  {
   "cell_type": "code",
   "execution_count": 5,
   "id": "ffbc9cae-6bae-4e42-a7c6-335f4bd06076",
   "metadata": {},
   "outputs": [],
   "source": [
    "# how to write variables \n",
    "\n",
    "# by using the camel case\n",
    "# Test variable case\n",
    "testvariablecase= 'Vanilla swirl'\n"
   ]
  },
  {
   "cell_type": "code",
   "execution_count": 6,
   "id": "4a284adb-c1fd-4d9b-a822-5681fc0cc885",
   "metadata": {},
   "outputs": [],
   "source": [
    "# how to write variables \n",
    "\n",
    "# by using the pascal case\n",
    "# Test variable case\n",
    "Testvariablecase= 'Vanilla swirl'\n"
   ]
  },
  {
   "cell_type": "code",
   "execution_count": 7,
   "id": "8e332751-5128-402e-9433-3e0a1b7d493d",
   "metadata": {},
   "outputs": [],
   "source": [
    "# how to write variables \n",
    "\n",
    "# by using the snake case\n",
    "# Test variable case\n",
    "Test_variable_case= 'Vanilla swirl'\n"
   ]
  },
  {
   "cell_type": "code",
   "execution_count": 8,
   "id": "aeb87217-dc2d-4b42-8d8a-0276837a85bd",
   "metadata": {},
   "outputs": [
    {
     "name": "stdout",
     "output_type": "stream",
     "text": [
      "Ice cream is my favourite.\n"
     ]
    }
   ],
   "source": [
    "x='Ice cream is my favourite' + '.'\n",
    "\n",
    "print(x)"
   ]
  },
  {
   "cell_type": "code",
   "execution_count": 9,
   "id": "ccf8519b-2160-4ca3-95e1-736b12296c73",
   "metadata": {},
   "outputs": [
    {
     "name": "stdout",
     "output_type": "stream",
     "text": [
      "9 9\n",
      "13\n",
      "4 9\n"
     ]
    }
   ],
   "source": [
    "y=4\n",
    "x=9\n",
    "print(x,9)\n",
    "print(x+y)\n",
    "print(y,x)"
   ]
  },
  {
   "cell_type": "code",
   "execution_count": 10,
   "id": "354e6f76-c327-46d1-a4e3-7d3c064a7e96",
   "metadata": {},
   "outputs": [
    {
     "name": "stdout",
     "output_type": "stream",
     "text": [
      "I will complete this semester with first class through Christ that strengthens me.\n"
     ]
    }
   ],
   "source": [
    "x='I will'\n",
    "y=' complete this'\n",
    "z=' semester with first class'\n",
    "\n",
    "print(x+y+z+' through Christ that strengthens me.')"
   ]
  },
  {
   "cell_type": "code",
   "execution_count": 11,
   "id": "543c70e9-0212-452e-93a7-2bb6e583c0e3",
   "metadata": {},
   "outputs": [
    {
     "name": "stdout",
     "output_type": "stream",
     "text": [
      "I will complete this semester with first class  through Christ that strengthens me.\n"
     ]
    }
   ],
   "source": [
    "x='I will'\n",
    "y=' complete this'\n",
    "z=' semester with first class'\n",
    "\n",
    "print(x+y+z,' through Christ that strengthens me.')"
   ]
  },
  {
   "cell_type": "code",
   "execution_count": 12,
   "id": "91854560-5b77-4adc-9fe0-83ba89a21ba3",
   "metadata": {},
   "outputs": [
    {
     "name": "stdout",
     "output_type": "stream",
     "text": [
      "I really like ice cream when is 2 at midnight\n"
     ]
    }
   ],
   "source": [
    "x='I really like ice cream when is '\n",
    "y= 2\n",
    "z=' at midnight'\n",
    "\n",
    "print(x+str(y)+z)"
   ]
  },
  {
   "cell_type": "code",
   "execution_count": 13,
   "id": "99a55b05-bf9f-46a5-a703-13c6891f40f9",
   "metadata": {},
   "outputs": [
    {
     "name": "stdout",
     "output_type": "stream",
     "text": [
      "I really like ice cream when is  2  at midnight\n"
     ]
    }
   ],
   "source": [
    "x='I really like ice cream when is '\n",
    "y= 2\n",
    "z=' at midnight'\n",
    "\n",
    "print(x,y,z)"
   ]
  },
  {
   "cell_type": "code",
   "execution_count": 14,
   "id": "81e73132-7471-4485-8c7f-b26a830fc9aa",
   "metadata": {},
   "outputs": [
    {
     "name": "stdout",
     "output_type": "stream",
     "text": [
      "The 2 elif worked\n"
     ]
    }
   ],
   "source": [
    "# Conditional statement \n",
    "\n",
    "# using the if and the elif statement\n",
    "\n",
    "if 85 <50 :\n",
    "    print('The first statement is true')\n",
    "elif 85<70:\n",
    "    print('print the first elif worked')\n",
    "elif 85<89 :\n",
    "    print('The 2 elif worked')\n",
    "elif 85<100:\n",
    "    print('the 3 elif worked')\n",
    "else :\n",
    "    print('None of the statement is true so there I come')"
   ]
  },
  {
   "cell_type": "code",
   "execution_count": 15,
   "id": "cb8b3e8c-dfb0-4799-a579-206a2e174681",
   "metadata": {},
   "outputs": [
    {
     "name": "stdin",
     "output_type": "stream",
     "text": [
      "your cwa 90\n"
     ]
    },
    {
     "name": "stdout",
     "output_type": "stream",
     "text": [
      "You get first class if your CWA is greater than 79.99\n"
     ]
    }
   ],
   "source": [
    "# having all your conditions on a single line\n",
    "A=float(input('your cwa'))\n",
    "\n",
    "print('You get first class if your CWA is greater than 79.99') if A>79.99 else print('First class is not your portion')"
   ]
  },
  {
   "cell_type": "code",
   "execution_count": 16,
   "id": "294bb38f-e35e-45c9-897f-3649e45ecd39",
   "metadata": {},
   "outputs": [
    {
     "name": "stdout",
     "output_type": "stream",
     "text": [
      "0\n",
      "1\n",
      "2\n",
      "3\n",
      "4\n",
      "Regina a\n",
      "Theophilus s\n",
      "Daniel l\n",
      "Millicent t\n",
      "Joana a\n",
      "Joshua a\n",
      "Salomay y\n",
      "Conny y\n",
      "Pauli i\n",
      "Dorothy y\n"
     ]
    }
   ],
   "source": [
    "# iteration or loops\n",
    "\n",
    "# the for loop is used for a specific loop you want \n",
    "for i in range(5):\n",
    "    print (i)\n",
    "\n",
    "Names=['Regina','Theophilus','Daniel','Millicent','Joana','Joshua','Salomay','Conny','Pauli','Dorothy'] \n",
    "for family in Names:\n",
    "    print ( family + ' ' + family[-1])"
   ]
  },
  {
   "cell_type": "code",
   "execution_count": 17,
   "id": "51a01e3e-49e1-4b6d-822a-243086755ee2",
   "metadata": {},
   "outputs": [
    {
     "name": "stdout",
     "output_type": "stream",
     "text": [
      "85\n",
      "90\n",
      "90\n",
      "90\n",
      "90\n",
      "85\n"
     ]
    }
   ],
   "source": [
    "first_class_semester_agender_dic={'ODE':85,'Modelling':90, 'Ai':90, 'Statinf':90, 'Non':90, 'Partial':85}\n",
    "for First_class in first_class_semester_agender_dic.values():\n",
    "    print(First_class)"
   ]
  },
  {
   "cell_type": "code",
   "execution_count": 18,
   "id": "7155362c-ecc3-46c0-8373-ec2147e8360b",
   "metadata": {},
   "outputs": [
    {
     "name": "stdout",
     "output_type": "stream",
     "text": [
      "ODE ->  85\n",
      "Modelling ->  90\n",
      "Ai ->  90\n",
      "Statinf ->  90\n",
      "Non ->  90\n",
      "Partial ->  85\n"
     ]
    }
   ],
   "source": [
    "\n",
    "#if you want to call both the key and it value\n",
    "# then you call two different variables in to replace the key and the value\n",
    "\n",
    "first_class_semester_agender_dic={'ODE':85,'Modelling':90, 'Ai':90, 'Statinf':90, 'Non':90, 'Partial':85}\n",
    "for course,marks in first_class_semester_agender_dic.items():\n",
    "    print(course, '-> ' ,marks)"
   ]
  },
  {
   "cell_type": "code",
   "execution_count": 19,
   "id": "d33d7c84-e870-4bd4-a1f7-c44948d96713",
   "metadata": {},
   "outputs": [
    {
     "name": "stdout",
     "output_type": "stream",
     "text": [
      "Asiedu can teach Ode\n",
      "Asiedu can teach Modelling\n",
      "Asiedu can teach topology\n",
      "Wiah can teach Ode\n",
      "Wiah can teach Modelling\n",
      "Wiah can teach topology\n",
      "Zigli can teach Ode\n",
      "Zigli can teach Modelling\n",
      "Zigli can teach topology\n"
     ]
    }
   ],
   "source": [
    "Course=['Ode','Modelling','topology']\n",
    "Lecturer=['Asiedu','Wiah', 'Zigli']\n",
    "\n",
    "for tuitor in Lecturer:\n",
    "    for subject in Course:\n",
    "        print(tuitor, 'can teach', subject)"
   ]
  },
  {
   "cell_type": "code",
   "execution_count": 20,
   "id": "12fe0547-03bd-470c-a514-af7908bfd96a",
   "metadata": {},
   "outputs": [
    {
     "name": "stdout",
     "output_type": "stream",
     "text": [
      "5\n",
      "7\n",
      "9\n"
     ]
    }
   ],
   "source": [
    "number=5\n",
    "while number <10:\n",
    "    print(number)\n",
    "    number=number+2"
   ]
  },
  {
   "cell_type": "code",
   "execution_count": 21,
   "id": "94cb76d9-947b-41e1-9055-f7fb4e3006e8",
   "metadata": {},
   "outputs": [
    {
     "name": "stdout",
     "output_type": "stream",
     "text": [
      "0\n",
      "1\n",
      "2\n",
      "3\n",
      "4\n",
      "5\n"
     ]
    }
   ],
   "source": [
    "# Using Break to stop the iterations if the given condition under the break is met\n",
    "# Note it an if statement\n",
    "\n",
    "number=0\n",
    "while number <10:\n",
    "    print(number)\n",
    "    if number==5:\n",
    "        break\n",
    "    number +=1\n"
   ]
  },
  {
   "cell_type": "code",
   "execution_count": null,
   "id": "8bb29988-b891-4a69-99bf-3651dd6dd9c1",
   "metadata": {},
   "outputs": [],
   "source": []
  },
  {
   "cell_type": "code",
   "execution_count": null,
   "id": "1d4c4e4f-00d6-46ea-95e6-39db5c6d37d2",
   "metadata": {},
   "outputs": [],
   "source": []
  },
  {
   "cell_type": "code",
   "execution_count": null,
   "id": "fb570ad8-bb7a-46a6-83dc-c1ca56d48bfc",
   "metadata": {},
   "outputs": [],
   "source": []
  },
  {
   "cell_type": "code",
   "execution_count": null,
   "id": "3c630ad5-2590-4de4-946a-a957723ccc1f",
   "metadata": {},
   "outputs": [],
   "source": []
  },
  {
   "cell_type": "code",
   "execution_count": null,
   "id": "67977c4c-8f6c-4304-87e0-67dec6c8496c",
   "metadata": {},
   "outputs": [],
   "source": []
  },
  {
   "cell_type": "code",
   "execution_count": null,
   "id": "7b54379a-635c-4114-b1e7-54f1ad3c6994",
   "metadata": {},
   "outputs": [],
   "source": []
  },
  {
   "cell_type": "code",
   "execution_count": null,
   "id": "eb8c6d68-bae7-4794-9335-aef117400517",
   "metadata": {},
   "outputs": [],
   "source": []
  },
  {
   "cell_type": "code",
   "execution_count": null,
   "id": "e6d3381d-963e-4779-9e65-22b3d674c170",
   "metadata": {},
   "outputs": [],
   "source": []
  },
  {
   "cell_type": "code",
   "execution_count": null,
   "id": "e2b7a725-4a89-440a-83b0-cde9e5ae4f6f",
   "metadata": {},
   "outputs": [],
   "source": []
  },
  {
   "cell_type": "code",
   "execution_count": 22,
   "id": "b85e8da6-ab9e-4d69-bf50-5481f38d1895",
   "metadata": {},
   "outputs": [
    {
     "name": "stdout",
     "output_type": "stream",
     "text": [
      "yes\n"
     ]
    }
   ],
   "source": [
    "print('yes')"
   ]
  },
  {
   "cell_type": "code",
   "execution_count": 23,
   "id": "8e649ad8-9b75-408f-9477-d02f761a9ab1",
   "metadata": {},
   "outputs": [
    {
     "name": "stdout",
     "output_type": "stream",
     "text": [
      "Memory Usage: 65.7%\n"
     ]
    }
   ],
   "source": [
    "import psutil\n",
    "print(f\"Memory Usage: {psutil.virtual_memory().percent}%\")\n"
   ]
  },
  {
   "cell_type": "code",
   "execution_count": null,
   "id": "fba5f376-4673-46ca-9f72-0782e39637d8",
   "metadata": {},
   "outputs": [],
   "source": []
  },
  {
   "cell_type": "code",
   "execution_count": null,
   "id": "cdfdcc7c-3cab-46ac-9114-6ce8ac5a3a02",
   "metadata": {},
   "outputs": [],
   "source": []
  },
  {
   "cell_type": "code",
   "execution_count": null,
   "id": "7882fc2f-e960-4be2-a591-edbcdb5e2e36",
   "metadata": {},
   "outputs": [],
   "source": []
  }
 ],
 "metadata": {
  "kernelspec": {
   "display_name": "Python 3 (ipykernel)",
   "language": "python",
   "name": "python3"
  },
  "language_info": {
   "codemirror_mode": {
    "name": "ipython",
    "version": 3
   },
   "file_extension": ".py",
   "mimetype": "text/x-python",
   "name": "python",
   "nbconvert_exporter": "python",
   "pygments_lexer": "ipython3",
   "version": "3.11.7"
  }
 },
 "nbformat": 4,
 "nbformat_minor": 5
}
